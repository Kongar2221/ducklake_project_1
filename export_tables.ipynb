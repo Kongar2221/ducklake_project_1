{
 "cells": [
  {
   "cell_type": "code",
   "execution_count": 5,
   "id": "6db3f748",
   "metadata": {},
   "outputs": [],
   "source": [
    "import os\n",
    "import pandas as pd\n",
    "from ducklake_conn import local_ducklake_conn"
   ]
  },
  {
   "cell_type": "code",
   "execution_count": null,
   "id": "8c98d853",
   "metadata": {},
   "outputs": [
    {
     "name": "stdout",
     "output_type": "stream",
     "text": [
      "Exporting vendor_names → raw_data/vendor_names.csv\n",
      "Exporting taxi_zone_lookup → raw_data/taxi_zone_lookup.csv\n",
      "All exports complete!\n"
     ]
    }
   ],
   "source": [
    "os.makedirs(\"raw_data\", exist_ok=True)\n",
    "\n",
    "for tbl in [\"vendor_names\", \"taxi_zone_lookup\"]:\n",
    "    print(f\"Exporting {tbl} → raw_data/{tbl}.csv\")\n",
    "    conn.execute(f\"\"\"\n",
    "        COPY {tbl}\n",
    "        TO 'raw_data/{tbl}.csv'\n",
    "        (HEADER TRUE, DELIMITER ',');\n",
    "    \"\"\")\n",
    "\n",
    "print(\"All exports complete!\")"
   ]
  },
  {
   "cell_type": "code",
   "execution_count": null,
   "id": "93ec632f",
   "metadata": {},
   "outputs": [
    {
     "name": "stdout",
     "output_type": "stream",
     "text": [
      "Exporting taxi_data → raw_data/taxi_data.csv\n",
      "✅ taxi_data export complete!\n"
     ]
    }
   ],
   "source": [
    "out_path = \"raw_data/taxi_data.csv\"\n",
    "print(f\"Exporting taxi_data → {out_path}\")\n",
    "conn.execute(f\"\"\"\n",
    "    COPY taxi_data\n",
    "    TO '{out_path}'\n",
    "    (HEADER TRUE, DELIMITER ',');\n",
    "\"\"\")\n",
    "print(\"taxi_data export complete!\")\n"
   ]
  },
  {
   "cell_type": "code",
   "execution_count": 10,
   "id": "5a3a8072",
   "metadata": {},
   "outputs": [],
   "source": [
    "conn.close()"
   ]
  }
 ],
 "metadata": {
  "kernelspec": {
   "display_name": "ducklake_project_1",
   "language": "python",
   "name": "python3"
  },
  "language_info": {
   "codemirror_mode": {
    "name": "ipython",
    "version": 3
   },
   "file_extension": ".py",
   "mimetype": "text/x-python",
   "name": "python",
   "nbconvert_exporter": "python",
   "pygments_lexer": "ipython3",
   "version": "3.11.5"
  }
 },
 "nbformat": 4,
 "nbformat_minor": 5
}
